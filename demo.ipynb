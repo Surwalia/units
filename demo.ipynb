{
 "cells": [
  {
   "cell_type": "markdown",
   "metadata": {},
   "source": [
    "# Generator of normalized unit group of group algebra FC_2"
   ]
  },
  {
   "cell_type": "code",
   "execution_count": null,
   "metadata": {},
   "outputs": [],
   "source": [
    "Read(\"units.g\");"
   ]
  },
  {
   "cell_type": "code",
   "execution_count": null,
   "metadata": {},
   "outputs": [],
   "source": [
    "F:=GF($p^n$);;\n",
    "G:=CyclicGroup(2);;\n",
    "FG:=GroupRing(F,G);;\n",
    "\n",
    "# Group Ring of cyclic group of order $2$ over a finite field with $p^n$ elements."
   ]
  },
  {
   "cell_type": "code",
   "execution_count": null,
   "metadata": {},
   "outputs": [],
   "source": [
    "e:=Identity(FG);;\n",
    "i1:=Embedding(G,FG);;\n",
    "i2:=Embedding(F,FG);;"
   ]
  },
  {
   "cell_type": "code",
   "execution_count": null,
   "metadata": {},
   "outputs": [],
   "source": [
    "# Some magical elements in the finite field\n",
    "\n",
    "# the generator of the cyclic group $F^*$\n",
    "\n",
    "q:=PrimitiveElement(F);;\n",
    "r:=(q^((Size(F) - 1)));;\n",
    "z:=q^((Size(F)-1)/2);;\n",
    "s:=r+r ;;\n",
    "j:=(r+q)/s ;;\n",
    "\n",
    "# Generating Set of the group\n",
    "m:=MinimalGeneratingSet(G);;\n"
   ]
  },
  {
   "cell_type": "code",
   "execution_count": null,
   "metadata": {},
   "outputs": [],
   "source": [
    "# the generator of $V(FC_2)$\n",
    "\n",
    "w:= (j)^i2 + ((e + (z*j)^(i2))*(m[1]^i1) );;\n",
    "\n"
   ]
  },
  {
   "cell_type": "code",
   "execution_count": null,
   "metadata": {},
   "outputs": [],
   "source": [
    "# demonstrating the generator of $V(FC_2),$ where $|F| = 7^3$\n",
    "OrderNormalizedUnitGroup(7,3);"
   ]
  },
  {
   "cell_type": "code",
   "execution_count": null,
   "metadata": {},
   "outputs": [],
   "source": []
  }
 ],
 "metadata": {
  "kernelspec": {
   "display_name": "GAP 4",
   "language": "gap",
   "name": "gap-4"
  },
  "language_info": {
   "codemirror_mode": "gap",
   "file_extension": ".g",
   "mimetype": "text/x-gap",
   "name": "GAP 4",
   "nbconvert_exporter": "",
   "pygments_lexer": "gap",
   "version": "4.10.2"
  }
 },
 "nbformat": 4,
 "nbformat_minor": 2
}
