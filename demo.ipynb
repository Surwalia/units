{
 "cells": [
  {
   "cell_type": "markdown",
   "metadata": {},
   "source": [
    "# Generator of normalized unit group of group algebra $FC_2$"
   ]
  },
  {
   "cell_type": "code",
   "execution_count": 1,
   "metadata": {},
   "outputs": [],
   "source": [
    "Read(\"units.g\");\n"
   ]
  },
  {
   "cell_type": "code",
   "execution_count": 20,
   "metadata": {},
   "outputs": [
    {
     "name": "stdout",
     "output_type": "stream",
     "text": [
      "(Z(7)^2)*<identity> of ...+(Z(7)^3)*f1"
     ]
    }
   ],
   "source": [
    "Print(GeneratorNormalizedUnitGroupFC2(7,1));"
   ]
  },
  {
   "cell_type": "code",
   "execution_count": 7,
   "metadata": {},
   "outputs": [],
   "source": [
    "p:=7;;\n",
    "n:=2;;\n",
    "F:=GF(p^n);;\n",
    "G:=CyclicGroup(2);;\n",
    "FG:=GroupRing(F,G);;\n",
    "\n",
    "# Group Ring of cyclic group of order $2$ over a finite field with $p^n$ elements."
   ]
  },
  {
   "cell_type": "code",
   "execution_count": 10,
   "metadata": {},
   "outputs": [],
   "source": [
    "e:=Identity(FG);;\n",
    "i1:=Embedding(G,FG);;\n",
    "i2:=Embedding(F,FG);;"
   ]
  },
  {
   "cell_type": "code",
   "execution_count": 16,
   "metadata": {},
   "outputs": [],
   "source": [
    "# Some magical elements in the finite field\n",
    "\n",
    "# the generator of the cyclic group $F^*$\n",
    "\n",
    "q:=PrimitiveElement(F);;\n",
    "r:=(q^((Size(F) - 1)));;\n",
    "z:=q^((Size(F)-1)/2);;\n",
    "s:=r+r ;;\n",
    "j:=(r+q)/s ;;\n",
    "\n",
    "# Generating Set of the group\n",
    "m:=MinimalGeneratingSet(G);;\n"
   ]
  },
  {
   "cell_type": "code",
   "execution_count": 18,
   "metadata": {},
   "outputs": [
    {
     "name": "stdout",
     "output_type": "stream",
     "text": [
      "(Z(7^2)^37)*<identity> of ...+(Z(7^2)^39)*f1"
     ]
    },
    {
     "data": {
      "text/plain": [
       "<object>"
      ]
     },
     "execution_count": 17,
     "metadata": {
      "text/plain": ""
     },
     "output_type": "execute_result"
    }
   ],
   "source": [
    "# the generator of $V(FC_2)$\n",
    "\n",
    "w:= (j)^i2 + ((e + (z*j)^(i2))*(m[1]^i1) );\n",
    "Print(w);\n"
   ]
  },
  {
   "cell_type": "code",
   "execution_count": 19,
   "metadata": {},
   "outputs": [
    {
     "data": {
      "text/plain": [
       "<object>"
      ]
     },
     "execution_count": 19,
     "metadata": {
      "text/plain": ""
     },
     "output_type": "execute_result"
    }
   ],
   "source": [
    "# demonstrating the generator of $V(FC_2),$ where $|F| = 7^2$\n",
    "GeneratorNormalizedUnitGroupFC2(7,2);"
   ]
  },
  {
   "cell_type": "code",
   "execution_count": null,
   "metadata": {},
   "outputs": [],
   "source": []
  }
 ],
 "metadata": {
  "kernelspec": {
   "display_name": "GAP 4",
   "language": "gap",
   "name": "gap-4"
  },
  "language_info": {
   "codemirror_mode": "gap",
   "file_extension": ".g",
   "mimetype": "text/x-gap",
   "name": "GAP 4",
   "nbconvert_exporter": "",
   "pygments_lexer": "gap",
   "version": "4.10.2"
  }
 },
 "nbformat": 4,
 "nbformat_minor": 2
}
